{
 "cells": [
  {
   "cell_type": "markdown",
   "metadata": {},
   "source": [
    "# Exercice 3"
   ]
  },
  {
   "cell_type": "code",
   "execution_count": 90,
   "metadata": {},
   "outputs": [],
   "source": [
    "#import Pkg\n",
    "#Pkg.add(\"JuMP\")\n",
    "#Pkg.add(\"Gurobi\")\n",
    "\n",
    "using JuMP, Gurobi, DataFrames, CSV, Random, LinearAlgebra"
   ]
  },
  {
   "cell_type": "code",
   "execution_count": 91,
   "metadata": {},
   "outputs": [],
   "source": [
    "#using Pkg\n",
    "#Pkg.add(\"PyPlot\")\n",
    "using PyPlot"
   ]
  },
  {
   "cell_type": "markdown",
   "metadata": {},
   "source": [
    "# Question a"
   ]
  },
  {
   "cell_type": "markdown",
   "metadata": {},
   "source": [
    "* l0-regularization "
   ]
  },
  {
   "cell_type": "code",
   "execution_count": 172,
   "metadata": {},
   "outputs": [
    {
     "data": {
      "text/plain": [
       "regularized_regression_l0 (generic function with 1 method)"
      ]
     },
     "execution_count": 172,
     "metadata": {},
     "output_type": "execute_result"
    }
   ],
   "source": [
    "function regularized_regression_l0(y, X, ρ)\n",
    "    \n",
    "    M = 10000\n",
    "    \n",
    "    n,m = size(X)\n",
    "    model = Model(solver = GurobiSolver(TimeLimit=45))\n",
    "    \n",
    "    @variable(model, β[1:m])\n",
    "    @variable(model, z[1:m], Bin)\n",
    "    \n",
    "    @objective(model, Min, sum((y - X*β).^2) + ρ*sum(z))\n",
    "    \n",
    "    for i in 1:m\n",
    "        @constraint(model, β[i] <= M * z[i])\n",
    "        @constraint(model, (-β[i]) <= M * z[i])\n",
    "    end\n",
    "    \n",
    "    sol = solve(model)\n",
    "    \n",
    "    return (getobjectivevalue(model), getvalue(β))\n",
    "    \n",
    "end"
   ]
  },
  {
   "cell_type": "code",
   "execution_count": 179,
   "metadata": {},
   "outputs": [
    {
     "data": {
      "text/plain": [
       "regularized_regression_l1 (generic function with 1 method)"
      ]
     },
     "execution_count": 179,
     "metadata": {},
     "output_type": "execute_result"
    }
   ],
   "source": [
    "function regularized_regression_l1(y, X, ρ)\n",
    "    \n",
    "    M = 10000\n",
    "    \n",
    "    n,m = size(X)\n",
    "    model = Model(solver = GurobiSolver(TimeLimit=45))\n",
    "    \n",
    "    @variable(model, β[1:m])\n",
    "    @variable(model, z[1:m])\n",
    "    \n",
    "    @objective(model, Min, sum((y - X*β).^2) + ρ*sum(z))\n",
    "    \n",
    "    for i in 1:m\n",
    "        @constraint(m, (z[i]) >= β[i])\n",
    "        @constraint(m, (z[i]) >= - β[i])\n",
    "    end\n",
    "    \n",
    "    sol = solve(model)\n",
    "    \n",
    "    return (getobjectivevalue(model), getvalue(β))\n",
    "    \n",
    "end"
   ]
  },
  {
   "cell_type": "markdown",
   "metadata": {},
   "source": [
    "## Question b"
   ]
  },
  {
   "cell_type": "code",
   "execution_count": 93,
   "metadata": {
    "scrolled": true
   },
   "outputs": [
    {
     "data": {
      "text/html": [
       "<table class=\"data-frame\"><thead><tr><th></th><th>2.3428592788251605</th></tr><tr><th></th><th>Float64</th></tr></thead><tbody><p>199 rows × 1 columns</p><tr><th>1</th><td>-3.04512</td></tr><tr><th>2</th><td>-5.90616</td></tr><tr><th>3</th><td>0.467956</td></tr><tr><th>4</th><td>-4.52402</td></tr><tr><th>5</th><td>1.77557</td></tr><tr><th>6</th><td>-1.1383</td></tr><tr><th>7</th><td>-3.26992</td></tr><tr><th>8</th><td>5.39506</td></tr><tr><th>9</th><td>4.66784</td></tr><tr><th>10</th><td>-1.50395</td></tr><tr><th>11</th><td>2.23237</td></tr><tr><th>12</th><td>0.469463</td></tr><tr><th>13</th><td>0.682461</td></tr><tr><th>14</th><td>5.31253</td></tr><tr><th>15</th><td>0.525097</td></tr><tr><th>16</th><td>-2.70004</td></tr><tr><th>17</th><td>1.30128</td></tr><tr><th>18</th><td>1.72264</td></tr><tr><th>19</th><td>-1.43531</td></tr><tr><th>20</th><td>9.21171</td></tr><tr><th>21</th><td>-1.06833</td></tr><tr><th>22</th><td>-1.7492</td></tr><tr><th>23</th><td>6.5739</td></tr><tr><th>24</th><td>-0.736</td></tr><tr><th>25</th><td>-1.04892</td></tr><tr><th>26</th><td>-3.06926</td></tr><tr><th>27</th><td>3.9814</td></tr><tr><th>28</th><td>1.38392</td></tr><tr><th>29</th><td>1.05565</td></tr><tr><th>30</th><td>-0.203398</td></tr><tr><th>&vellip;</th><td>&vellip;</td></tr></tbody></table>"
      ],
      "text/latex": [
       "\\begin{tabular}{r|c}\n",
       "\t& 2.3428592788251605\\\\\n",
       "\t\\hline\n",
       "\t& Float64\\\\\n",
       "\t\\hline\n",
       "\t1 & -3.04512 \\\\\n",
       "\t2 & -5.90616 \\\\\n",
       "\t3 & 0.467956 \\\\\n",
       "\t4 & -4.52402 \\\\\n",
       "\t5 & 1.77557 \\\\\n",
       "\t6 & -1.1383 \\\\\n",
       "\t7 & -3.26992 \\\\\n",
       "\t8 & 5.39506 \\\\\n",
       "\t9 & 4.66784 \\\\\n",
       "\t10 & -1.50395 \\\\\n",
       "\t11 & 2.23237 \\\\\n",
       "\t12 & 0.469463 \\\\\n",
       "\t13 & 0.682461 \\\\\n",
       "\t14 & 5.31253 \\\\\n",
       "\t15 & 0.525097 \\\\\n",
       "\t16 & -2.70004 \\\\\n",
       "\t17 & 1.30128 \\\\\n",
       "\t18 & 1.72264 \\\\\n",
       "\t19 & -1.43531 \\\\\n",
       "\t20 & 9.21171 \\\\\n",
       "\t21 & -1.06833 \\\\\n",
       "\t22 & -1.7492 \\\\\n",
       "\t23 & 6.5739 \\\\\n",
       "\t24 & -0.736 \\\\\n",
       "\t25 & -1.04892 \\\\\n",
       "\t26 & -3.06926 \\\\\n",
       "\t27 & 3.9814 \\\\\n",
       "\t28 & 1.38392 \\\\\n",
       "\t29 & 1.05565 \\\\\n",
       "\t30 & -0.203398 \\\\\n",
       "\t$\\dots$ & $\\dots$ \\\\\n",
       "\\end{tabular}\n"
      ],
      "text/plain": [
       "199×1 DataFrame\n",
       "│ Row │ 2.3428592788251605 │\n",
       "│     │ \u001b[90mFloat64\u001b[39m            │\n",
       "├─────┼────────────────────┤\n",
       "│ 1   │ -3.04512           │\n",
       "│ 2   │ -5.90616           │\n",
       "│ 3   │ 0.467956           │\n",
       "│ 4   │ -4.52402           │\n",
       "│ 5   │ 1.77557            │\n",
       "│ 6   │ -1.1383            │\n",
       "│ 7   │ -3.26992           │\n",
       "│ 8   │ 5.39506            │\n",
       "│ 9   │ 4.66784            │\n",
       "│ 10  │ -1.50395           │\n",
       "⋮\n",
       "│ 189 │ 4.30077            │\n",
       "│ 190 │ 0.92946            │\n",
       "│ 191 │ 2.21726            │\n",
       "│ 192 │ -3.94101           │\n",
       "│ 193 │ 8.41046            │\n",
       "│ 194 │ 0.0498205          │\n",
       "│ 195 │ -0.0693615         │\n",
       "│ 196 │ -0.922753          │\n",
       "│ 197 │ -9.44384           │\n",
       "│ 198 │ 3.98789            │\n",
       "│ 199 │ 2.26646            │"
      ]
     },
     "execution_count": 93,
     "metadata": {},
     "output_type": "execute_result"
    }
   ],
   "source": [
    "sparseX2 = CSV.read(\"sparseX2.csv\")\n",
    "sparseY2 = CSV.read(\"sparseY2.csv\")"
   ]
  },
  {
   "cell_type": "markdown",
   "metadata": {},
   "source": [
    "Creation of the validation, training and testing sets."
   ]
  },
  {
   "cell_type": "code",
   "execution_count": 159,
   "metadata": {},
   "outputs": [
    {
     "data": {
      "text/plain": [
       "generate_val_train_test_sets (generic function with 1 method)"
      ]
     },
     "execution_count": 159,
     "metadata": {},
     "output_type": "execute_result"
    }
   ],
   "source": [
    "function generate_val_train_test_sets(data, output, val, test)\n",
    "    n = size(data, 1)\n",
    "    index = shuffle([i for i in 1:n])\n",
    "    \n",
    "    i_val = floor(Int,val*n)    \n",
    "    i_test = floor(Int,(val+test)*n)\n",
    "    \n",
    "    ind_val = index[1:i_val]\n",
    "    ind_test = index[i_val+1:i_test]\n",
    "    ind_train = index[i_test+1:n]\n",
    "    \n",
    "    val_set = data[ind_val, :]\n",
    "    test_set = data[ind_test, :]\n",
    "    train_set = data[ind_train, :]\n",
    "\n",
    "    val_set_output = output[ind_val, :]\n",
    "    test_set_output = output[ind_test, :]\n",
    "    train_set_output = output[ind_train, :]\n",
    "    \n",
    "    return (\n",
    "        convert(Matrix,val_set), \n",
    "        convert(Matrix,test_set), \n",
    "        convert(Matrix,train_set), \n",
    "        convert(Matrix, val_set_output), \n",
    "        convert(Matrix,test_set_output),\n",
    "        convert(Matrix,train_set_output)\n",
    "        )\n",
    "    \n",
    "end"
   ]
  },
  {
   "cell_type": "code",
   "execution_count": 160,
   "metadata": {},
   "outputs": [
    {
     "name": "stdout",
     "output_type": "stream",
     "text": [
      "index : [122, 90, 116, 127, 138, 87, 185, 107, 148, 136, 97, 103, 54, 113, 182, 9, 114, 98, 194, 67, 14, 165, 125, 8, 10, 120, 36, 5, 100, 131, 163, 197, 61, 26, 76, 83, 109, 159, 82, 63, 89, 52, 78, 157, 188, 43, 189, 64, 45, 85, 92, 192, 79, 154, 130, 119, 150, 88, 33, 46, 187, 7, 19, 93, 195, 175, 48, 162, 176, 191, 151, 96, 68, 31, 180, 142, 60, 174, 156, 198, 29, 152, 66, 167, 134, 15, 50, 42, 21, 181, 65, 59, 199, 112, 146, 75, 28, 128, 57, 133, 11, 158, 44, 171, 108, 186, 147, 110, 37, 94, 77, 12, 172, 74, 80, 173, 166, 25, 160, 143, 35, 111, 121, 81, 3, 153, 135, 99, 73, 24, 2, 70, 161, 18, 91, 102, 118, 34, 27, 49, 196, 190, 71, 144, 178, 17, 132, 123, 129, 1, 145, 6, 32, 105, 101, 40, 20, 139, 164, 62, 56, 140, 106, 124, 126, 4, 41, 177, 95, 137, 84, 86, 141, 58, 53, 168, 38, 149, 169, 179, 22, 117, 104, 51, 72, 47, 39, 30, 170, 193, 115, 23, 13, 155, 16, 69, 183, 55, 184]\n",
      "i_val : 49\n",
      "ind_val : [122, 90, 116, 127, 138, 87, 185, 107, 148, 136, 97, 103, 54, 113, 182, 9, 114, 98, 194, 67, 14, 165, 125, 8, 10, 120, 36, 5, 100, 131, 163, 197, 61, 26, 76, 83, 109, 159, 82, 63, 89, 52, 78, 157, 188, 43, 189, 64, 45]\n"
     ]
    },
    {
     "data": {
      "text/plain": [
       "([1.1540597669111703 0.8156139596767987 … 0.17539442072242212 -0.6724855811748534; -1.7098682060045913 2.1299921566412503 … 0.41824798687303055 -0.9263087122572096; … ; 1.174681325975111 1.4678868411216563 … 1.538364868393089 -0.9556914030518779; 0.7593902139454598 -0.06596847546469198 … 0.9513758028848546 0.9041129663812132], [1.5231753911772645 0.2059465326047665 … 1.078559722835045 1.5396416080605901; -0.1289156385300165 -0.23211025519653547 … 0.05734765946819415 0.41097459032249994; … ; 0.658322671059814 -0.5775086066033142 … 0.48131839739460924 -0.8103065724158262; -0.6161166660088192 -1.6190985435203415 … -1.6490189263708104 0.27883605621823027], [-0.20212227601885754 -0.5108631833174244 … 1.829723716858734 0.19690357059596286; -0.7576330377205277 0.3254542082853489 … -0.5979137392321 -0.7811232903468176; … ; -1.3851080676759138 -0.29961787965293785 … 0.3717303873230274 1.6368541078980345; 0.3638388194911837 0.131810280826272 … -0.8177566148103238 -1.0121874853029817], [-2.435464584216253; 0.14595110264996802; … ; -2.272760297629384; -3.6096269382516], [0.7126231015257214; -1.0338667514744913; … ; -3.447533571539583; 2.5573046497434975], [-0.17158758868765298; 2.2323699697976465; … ; 0.20664021776566072; 0.777408657859086])"
      ]
     },
     "execution_count": 160,
     "metadata": {},
     "output_type": "execute_result"
    }
   ],
   "source": [
    "val_set, test_set, train_set, val_set_output, test_set_output, train_set_output = generate_val_train_test_sets(sparseX2, sparseY2, 0.25, 0.25)"
   ]
  },
  {
   "cell_type": "markdown",
   "metadata": {},
   "source": [
    "We choose ρ as the value that gives the best mean squared prediction error on the validation set."
   ]
  },
  {
   "cell_type": "markdown",
   "metadata": {},
   "source": [
    "Mean Square Error"
   ]
  },
  {
   "cell_type": "code",
   "execution_count": 141,
   "metadata": {},
   "outputs": [
    {
     "data": {
      "text/plain": [
       "mean_square_error (generic function with 1 method)"
      ]
     },
     "execution_count": 141,
     "metadata": {},
     "output_type": "execute_result"
    }
   ],
   "source": [
    "function mean_square_error(y_real, y_output)\n",
    "    return sum((y_real - y_output).^2)\n",
    "end"
   ]
  },
  {
   "cell_type": "code",
   "execution_count": 142,
   "metadata": {},
   "outputs": [
    {
     "data": {
      "text/plain": [
       "compute_error_l0 (generic function with 1 method)"
      ]
     },
     "execution_count": 142,
     "metadata": {},
     "output_type": "execute_result"
    }
   ],
   "source": [
    "function compute_error_l0(rho, set, output_set)\n",
    "    beta = regularized_regression_l0(train_set_output, train_set, rho)\n",
    "    error = mean_square_error(output_set, set * beta)\n",
    "    return error\n",
    "end"
   ]
  },
  {
   "cell_type": "code",
   "execution_count": null,
   "metadata": {},
   "outputs": [],
   "source": [
    "function compute_error_l1(rho, set, output_set)\n",
    "    beta = regularized_regression_l1(train_set_output, train_set, rho)\n",
    "    error = mean_square_error(output_set, set * beta)\n",
    "    return error\n",
    "end"
   ]
  },
  {
   "cell_type": "code",
   "execution_count": 176,
   "metadata": {},
   "outputs": [
    {
     "data": {
      "text/plain": [
       "50-element Array{Int64,1}:\n",
       "  1\n",
       "  2\n",
       "  3\n",
       "  4\n",
       "  5\n",
       "  6\n",
       "  7\n",
       "  8\n",
       "  9\n",
       " 10\n",
       " 11\n",
       " 12\n",
       " 13\n",
       "  ⋮\n",
       " 39\n",
       " 40\n",
       " 41\n",
       " 42\n",
       " 43\n",
       " 44\n",
       " 45\n",
       " 46\n",
       " 47\n",
       " 48\n",
       " 49\n",
       " 50"
      ]
     },
     "execution_count": 176,
     "metadata": {},
     "output_type": "execute_result"
    }
   ],
   "source": [
    "#rho_test = vcat([0.0001, 0.001, 0.01, 0.1, 1], [i*10 for i in 1:30])\n",
    "rho_test = [i for i=1:10]"
   ]
  },
  {
   "cell_type": "code",
   "execution_count": 177,
   "metadata": {},
   "outputs": [
    {
     "name": "stdout",
     "output_type": "stream",
     "text": [
      "Academic license - for non-commercial use only\n",
      "Optimize a model with 200 rows, 200 columns and 400 nonzeros\n",
      "Model has 5050 quadratic objective terms\n",
      "Variable types: 100 continuous, 100 integer (100 binary)\n",
      "Coefficient statistics:\n",
      "  Matrix range     [1e+00, 1e+04]\n",
      "  Objective range  [6e-01, 3e+02]\n",
      "  QObjective range [2e-02, 3e+02]\n",
      "  Bounds range     [1e+00, 1e+00]\n",
      "  RHS range        [0e+00, 0e+00]\n",
      "Found heuristic solution: objective 0.0000000\n",
      "Presolve time: 0.00s\n",
      "Presolved: 200 rows, 200 columns, 400 nonzeros\n",
      "Presolved model has 5050 quadratic objective terms\n",
      "Variable types: 100 continuous, 100 integer (100 binary)\n",
      "\n",
      "Root relaxation: objective -9.807335e+02, 1128 iterations, 0.07 seconds\n",
      "\n",
      "    Nodes    |    Current Node    |     Objective Bounds      |     Work\n",
      " Expl Unexpl |  Obj  Depth IntInf | Incumbent    BestBd   Gap | It/Node Time\n",
      "\n",
      "     0     0 -980.73345    0   90    0.00000 -980.73345      -     -    0s\n",
      "H    0     0                    -890.7389678 -980.73345  10.1%     -    0s\n",
      "     0     0 -980.73345    0   90 -890.73897 -980.73345  10.1%     -    0s\n",
      "H    0     0                    -929.2509215 -980.73345  5.54%     -    0s\n",
      "H    0     0                    -939.7453294 -980.73345  4.36%     -    0s\n",
      "H    0     0                    -944.7795659 -980.73345  3.81%     -    0s\n",
      "H    0     0                    -945.0723869 -980.73345  3.77%     -    0s\n",
      "H    0     0                    -947.1831889 -980.73345  3.54%     -    0s\n",
      "H    0     0                    -948.6592493 -980.73345  3.38%     -    0s\n",
      "H    0     0                    -949.5915582 -980.73345  3.28%     -    0s\n",
      "     0     2 -980.73345    0   90 -949.59156 -980.73345  3.28%     -    0s\n",
      "H   78    73                    -949.7603243 -973.53803  2.50%  18.7    0s\n",
      "H   92    78                    -952.8923628 -972.73458  2.08%  18.7    0s\n",
      "H  638   374                    -954.9445814 -969.90310  1.57%  15.5    0s\n",
      "H 1037   550                    -955.8057751 -969.21308  1.40%  18.0    1s\n",
      "  6299  2877 -960.19835   36   16 -955.80578 -963.85127  0.84%  18.3    5s\n",
      "H 6932  3005                    -956.2836348 -963.58477  0.76%  18.3    5s\n",
      "* 6941  2874              49    -956.6520596 -963.58477  0.72%  18.3    5s\n",
      " 14087  5664 -960.87235   36   21 -956.65206 -962.29264  0.59%  19.7   10s\n",
      "H15428  5753                    -957.0428712 -962.06761  0.53%  19.8   11s\n",
      "H15433  5373                    -957.3937171 -962.06761  0.49%  19.8   11s\n",
      "H17665  4274                    -958.6105277 -961.83049  0.34%  20.1   13s\n",
      " 19491  4348 -960.06252   36   36 -958.61053 -961.58276  0.31%  20.3   15s\n",
      " 25201  4177 -960.97454   33   49 -958.61053 -960.97454  0.25%  20.6   20s\n",
      " 33571  3080 -960.19321   35   34 -958.61053 -960.19321  0.17%  20.9   25s\n",
      "\n",
      "Explored 40823 nodes (851228 simplex iterations) in 29.36 seconds\n",
      "Thread count was 4 (of 4 available processors)\n",
      "\n",
      "Solution count 10: -958.611 -957.394 -957.043 ... -949.592\n",
      "\n",
      "Optimal solution found (tolerance 1.00e-04)\n",
      "Best objective -9.586105276608e+02, best bound -9.586884216866e+02, gap 0.0081%\n"
     ]
    },
    {
     "ename": "MethodError",
     "evalue": "MethodError: no method matching *(::Array{Float64,2}, ::Tuple{Float64,Array{Float64,1}})\nClosest candidates are:\n  *(::Any, ::Any, !Matched::Any, !Matched::Any...) at operators.jl:529\n  *(!Matched::PyCall.PyObject, ::Any) at /Users/gabriellerappaport/.julia/packages/PyCall/ttONZ/src/pyoperators.jl:13\n  *(::Union{Array{T,2} where T, SparseArrays.SparseMatrixCSC}, !Matched::Union{Array{T<:Union{JuMP.AbstractJuMPScalar, JuMP.GenericNormExpr{2,Float64,Variable}, JuMP.NonlinearExpression, JuMP.GenericNorm{P,Float64,Variable} where P},2}, Array{T<:Union{JuMP.AbstractJuMPScalar, JuMP.GenericNormExpr{2,Float64,Variable}, JuMP.NonlinearExpression, JuMP.GenericNorm{P,Float64,Variable} where P},1}, SparseArrays.SparseMatrixCSC{T<:Union{JuMP.AbstractJuMPScalar, JuMP.GenericNormExpr{2,Float64,Variable}, JuMP.NonlinearExpression, JuMP.GenericNorm{P,Float64,Variable} where P},Ti} where Ti<:Integer}) where T<:Union{JuMP.AbstractJuMPScalar, JuMP.GenericNormExpr{2,Float64,Variable}, JuMP.NonlinearExpression, JuMP.GenericNorm{P,Float64,Variable} where P} at /Users/gabriellerappaport/.julia/packages/JuMP/I7whV/src/operators.jl:473\n  ...",
     "output_type": "error",
     "traceback": [
      "MethodError: no method matching *(::Array{Float64,2}, ::Tuple{Float64,Array{Float64,1}})\nClosest candidates are:\n  *(::Any, ::Any, !Matched::Any, !Matched::Any...) at operators.jl:529\n  *(!Matched::PyCall.PyObject, ::Any) at /Users/gabriellerappaport/.julia/packages/PyCall/ttONZ/src/pyoperators.jl:13\n  *(::Union{Array{T,2} where T, SparseArrays.SparseMatrixCSC}, !Matched::Union{Array{T<:Union{JuMP.AbstractJuMPScalar, JuMP.GenericNormExpr{2,Float64,Variable}, JuMP.NonlinearExpression, JuMP.GenericNorm{P,Float64,Variable} where P},2}, Array{T<:Union{JuMP.AbstractJuMPScalar, JuMP.GenericNormExpr{2,Float64,Variable}, JuMP.NonlinearExpression, JuMP.GenericNorm{P,Float64,Variable} where P},1}, SparseArrays.SparseMatrixCSC{T<:Union{JuMP.AbstractJuMPScalar, JuMP.GenericNormExpr{2,Float64,Variable}, JuMP.NonlinearExpression, JuMP.GenericNorm{P,Float64,Variable} where P},Ti} where Ti<:Integer}) where T<:Union{JuMP.AbstractJuMPScalar, JuMP.GenericNormExpr{2,Float64,Variable}, JuMP.NonlinearExpression, JuMP.GenericNorm{P,Float64,Variable} where P} at /Users/gabriellerappaport/.julia/packages/JuMP/I7whV/src/operators.jl:473\n  ...",
      "",
      "Stacktrace:",
      " [1] compute_error_l0(::Int64, ::Array{Float64,2}, ::Array{Float64,2}) at ./In[142]:3",
      " [2] top-level scope at ./In[177]:4"
     ]
    }
   ],
   "source": [
    "error_l0 = zeros(length(rho_test))\n",
    "\n",
    "for i in 1:length(rho_test)\n",
    "    error_l0[i] = compute_error_l0(rho_test[i], val_set, val_set_output)\n",
    "end"
   ]
  },
  {
   "cell_type": "code",
   "execution_count": 178,
   "metadata": {},
   "outputs": [
    {
     "data": {
      "image/png": "[encoded data removed]",
      "text/plain": [
       "Figure(PyObject <Figure size 640x480 with 1 Axes>)"
      ]
     },
     "metadata": {},
     "output_type": "display_data"
    },
    {
     "data": {
      "text/plain": [
       "1-element Array{PyCall.PyObject,1}:\n",
       " PyObject <matplotlib.lines.Line2D object at 0x1520b6978>"
      ]
     },
     "execution_count": 178,
     "metadata": {},
     "output_type": "execute_result"
    }
   ],
   "source": [
    "plot(rho_test, error_l0, color=\"red\", linewidth=2.0)      "
   ]
  },
  {
   "cell_type": "markdown",
   "metadata": {},
   "source": [
    "Compute ∥y − Xβ∥2 on the testing set using the β’s from l0-regularized, l1-regularized linear regression, l2- regularized linear regression, and standard linear regression (ρ = 0)"
   ]
  },
  {
   "cell_type": "code",
   "execution_count": 102,
   "metadata": {},
   "outputs": [
    {
     "ename": "UndefVarError",
     "evalue": "UndefVarError: rho_l0 not defined",
     "output_type": "error",
     "traceback": [
      "UndefVarError: rho_l0 not defined",
      "",
      "Stacktrace:",
      " [1] top-level scope at In[102]:1"
     ]
    }
   ],
   "source": [
    "l0_error = compute_error_l0(rho_l0, test_set, test_set_output)"
   ]
  },
  {
   "cell_type": "code",
   "execution_count": 103,
   "metadata": {},
   "outputs": [
    {
     "ename": "UndefVarError",
     "evalue": "UndefVarError: compute_error_l1 not defined",
     "output_type": "error",
     "traceback": [
      "UndefVarError: compute_error_l1 not defined",
      "",
      "Stacktrace:",
      " [1] top-level scope at In[103]:1"
     ]
    }
   ],
   "source": [
    "l1_error = compute_error_l1(rho_l1, test_set, test_set_output)"
   ]
  },
  {
   "cell_type": "code",
   "execution_count": 104,
   "metadata": {},
   "outputs": [
    {
     "ename": "UndefVarError",
     "evalue": "UndefVarError: compute_error_l2 not defined",
     "output_type": "error",
     "traceback": [
      "UndefVarError: compute_error_l2 not defined",
      "",
      "Stacktrace:",
      " [1] top-level scope at In[104]:1"
     ]
    }
   ],
   "source": [
    "l2_error = compute_error_l2(rho_l2, test_set, test_set_output)"
   ]
  }
 ],
 "metadata": {
  "kernelspec": {
   "display_name": "Julia 1.2.0",
   "language": "julia",
   "name": "julia-1.2"
  },
  "language_info": {
   "file_extension": ".jl",
   "mimetype": "application/julia",
   "name": "julia",
   "version": "1.2.0"
  }
 },
 "nbformat": 4,
 "nbformat_minor": 2
}
