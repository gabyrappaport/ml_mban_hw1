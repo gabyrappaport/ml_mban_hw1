{
 "cells": [
  {
   "cell_type": "markdown",
   "metadata": {},
   "source": [
    "# Exercice 3"
   ]
  },
  {
   "cell_type": "code",
   "execution_count": 219,
   "metadata": {},
   "outputs": [],
   "source": [
    "#import Pkg\n",
    "#Pkg.add(\"JuMP\")\n",
    "#Pkg.add(\"Gurobi\")\n",
    "\n",
    "using JuMP, Gurobi, DataFrames, CSV, Random, LinearAlgebra"
   ]
  },
  {
   "cell_type": "code",
   "execution_count": 220,
   "metadata": {},
   "outputs": [],
   "source": [
    "#using Pkg\n",
    "#Pkg.add(\"PyPlot\")\n",
    "using PyPlot"
   ]
  },
  {
   "cell_type": "markdown",
   "metadata": {},
   "source": [
    "# Question a"
   ]
  },
  {
   "cell_type": "markdown",
   "metadata": {},
   "source": [
    "* l0-regularization "
   ]
  },
  {
   "cell_type": "code",
   "execution_count": 221,
   "metadata": {},
   "outputs": [
    {
     "data": {
      "text/plain": [
       "powered_norm (generic function with 4 methods)"
      ]
     },
     "execution_count": 221,
     "metadata": {},
     "output_type": "execute_result"
    }
   ],
   "source": [
    "function powered_norm(y, X, beta)\n",
    "    n, m = size(X)\n",
    "    #return sum((y[i, 1] - dot(X[i,:], beta))^2 for i = 1:n)\n",
    "    return sum((y[i, 1] - sum(X[i, j]*beta[j] for j in 1:m))^2 for i = 1:n)\n",
    "end\n",
    "\n",
    "function powered_norm(beta)\n",
    "    n = size(X, 1)\n",
    "    return sum(beta[i]^2 for i in 1:n)\n",
    "end"
   ]
  },
  {
   "cell_type": "code",
   "execution_count": 255,
   "metadata": {},
   "outputs": [
    {
     "data": {
      "text/plain": [
       "regularized_regression_l0 (generic function with 1 method)"
      ]
     },
     "execution_count": 255,
     "metadata": {},
     "output_type": "execute_result"
    }
   ],
   "source": [
    "function regularized_regression_l0(y, X, rho)\n",
    "    M = 100000\n",
    "    n,p = size(y, 1)\n",
    "    m = Model(solver = GurobiSolver())\n",
    "    \n",
    "    @variable(m, beta[1:n])\n",
    "    @variable(m, z[1:n], Bin)\n",
    "    \n",
    "    @objective(m, \n",
    "        Min, \n",
    "        sum((y[i, 1] - sum(X[i, j]*beta[j] for j in 1:p))^2 for i in 1:n) \n",
    "        + rho*sum(z[i] for i in 1:n))\n",
    "    \n",
    "    for i in 1:n\n",
    "        @constraint(m, beta[i] <= M * z[i])\n",
    "        @constraint(m, (-beta[i]) <= M * z[i])\n",
    "    end\n",
    "    \n",
    "    sol = solve(m)\n",
    "    \n",
    "    return getvalue(beta)\n",
    "    \n",
    "end"
   ]
  },
  {
   "cell_type": "markdown",
   "metadata": {},
   "source": [
    "* l1-regularization"
   ]
  },
  {
   "cell_type": "code",
   "execution_count": 223,
   "metadata": {},
   "outputs": [
    {
     "data": {
      "text/plain": [
       "regularized_regression_l1 (generic function with 1 method)"
      ]
     },
     "execution_count": 223,
     "metadata": {},
     "output_type": "execute_result"
    }
   ],
   "source": [
    "function regularized_regression_l1(y, X, rho)\n",
    "    n,p = size(y, 1)\n",
    "    \n",
    "    m = Model(solver = GurobiSolver())\n",
    "    \n",
    "    @variable(m, beta[1:n])\n",
    "    @variable(m, z[1:n])\n",
    "    \n",
    "    @objective(m, Min, sum((y[i, 1] - sum(X[i, j]*beta[j] for j in 1:p))^2 for i = 1:n) +rho*sum(z[i] for i in 1:n))\n",
    "    \n",
    "    for i in 1:n\n",
    "        @constraint(m, (z[i]) >= beta[i])\n",
    "        @constraint(m, (z[i]) >= - beta[i])\n",
    "    end\n",
    "    \n",
    "    sol = solve(m)\n",
    "    \n",
    "    return getvalue(beta)\n",
    "    \n",
    "end"
   ]
  },
  {
   "cell_type": "markdown",
   "metadata": {},
   "source": [
    "* l2-regularization"
   ]
  },
  {
   "cell_type": "code",
   "execution_count": 224,
   "metadata": {},
   "outputs": [
    {
     "data": {
      "text/plain": [
       "regularized_regression_l2 (generic function with 1 method)"
      ]
     },
     "execution_count": 224,
     "metadata": {},
     "output_type": "execute_result"
    }
   ],
   "source": [
    "function regularized_regression_l2(y, X, rho)\n",
    "    n,p = size(y, 1)\n",
    "    \n",
    "    m = Model(solver = GurobiSolver())\n",
    "    \n",
    "    @variable(m, beta[1:n])\n",
    "    \n",
    "    @objective(m, Min, sum((y[i, 1] - sum(X[i, j]*beta[j] for j in 1:p))^2 for i = 1:n) + rho*sum(beta[i]^2 for i in 1:p))\n",
    "\n",
    "    sol = solve(m)\n",
    "    \n",
    "    return getvalue(beta)\n",
    "end"
   ]
  },
  {
   "cell_type": "markdown",
   "metadata": {},
   "source": [
    "## Question b"
   ]
  },
  {
   "cell_type": "code",
   "execution_count": 225,
   "metadata": {},
   "outputs": [
    {
     "data": {
      "text/html": [
       "<table class=\"data-frame\"><thead><tr><th></th><th>2.3428592788251605</th></tr><tr><th></th><th>Float64</th></tr></thead><tbody><p>199 rows × 1 columns</p><tr><th>1</th><td>-3.04512</td></tr><tr><th>2</th><td>-5.90616</td></tr><tr><th>3</th><td>0.467956</td></tr><tr><th>4</th><td>-4.52402</td></tr><tr><th>5</th><td>1.77557</td></tr><tr><th>6</th><td>-1.1383</td></tr><tr><th>7</th><td>-3.26992</td></tr><tr><th>8</th><td>5.39506</td></tr><tr><th>9</th><td>4.66784</td></tr><tr><th>10</th><td>-1.50395</td></tr><tr><th>11</th><td>2.23237</td></tr><tr><th>12</th><td>0.469463</td></tr><tr><th>13</th><td>0.682461</td></tr><tr><th>14</th><td>5.31253</td></tr><tr><th>15</th><td>0.525097</td></tr><tr><th>16</th><td>-2.70004</td></tr><tr><th>17</th><td>1.30128</td></tr><tr><th>18</th><td>1.72264</td></tr><tr><th>19</th><td>-1.43531</td></tr><tr><th>20</th><td>9.21171</td></tr><tr><th>21</th><td>-1.06833</td></tr><tr><th>22</th><td>-1.7492</td></tr><tr><th>23</th><td>6.5739</td></tr><tr><th>24</th><td>-0.736</td></tr><tr><th>25</th><td>-1.04892</td></tr><tr><th>26</th><td>-3.06926</td></tr><tr><th>27</th><td>3.9814</td></tr><tr><th>28</th><td>1.38392</td></tr><tr><th>29</th><td>1.05565</td></tr><tr><th>30</th><td>-0.203398</td></tr><tr><th>&vellip;</th><td>&vellip;</td></tr></tbody></table>"
      ],
      "text/latex": [
       "\\begin{tabular}{r|c}\n",
       "\t& 2.3428592788251605\\\\\n",
       "\t\\hline\n",
       "\t& Float64\\\\\n",
       "\t\\hline\n",
       "\t1 & -3.04512 \\\\\n",
       "\t2 & -5.90616 \\\\\n",
       "\t3 & 0.467956 \\\\\n",
       "\t4 & -4.52402 \\\\\n",
       "\t5 & 1.77557 \\\\\n",
       "\t6 & -1.1383 \\\\\n",
       "\t7 & -3.26992 \\\\\n",
       "\t8 & 5.39506 \\\\\n",
       "\t9 & 4.66784 \\\\\n",
       "\t10 & -1.50395 \\\\\n",
       "\t11 & 2.23237 \\\\\n",
       "\t12 & 0.469463 \\\\\n",
       "\t13 & 0.682461 \\\\\n",
       "\t14 & 5.31253 \\\\\n",
       "\t15 & 0.525097 \\\\\n",
       "\t16 & -2.70004 \\\\\n",
       "\t17 & 1.30128 \\\\\n",
       "\t18 & 1.72264 \\\\\n",
       "\t19 & -1.43531 \\\\\n",
       "\t20 & 9.21171 \\\\\n",
       "\t21 & -1.06833 \\\\\n",
       "\t22 & -1.7492 \\\\\n",
       "\t23 & 6.5739 \\\\\n",
       "\t24 & -0.736 \\\\\n",
       "\t25 & -1.04892 \\\\\n",
       "\t26 & -3.06926 \\\\\n",
       "\t27 & 3.9814 \\\\\n",
       "\t28 & 1.38392 \\\\\n",
       "\t29 & 1.05565 \\\\\n",
       "\t30 & -0.203398 \\\\\n",
       "\t$\\dots$ & $\\dots$ \\\\\n",
       "\\end{tabular}\n"
      ],
      "text/plain": [
       "199×1 DataFrame\n",
       "│ Row │ 2.3428592788251605 │\n",
       "│     │ \u001b[90mFloat64\u001b[39m            │\n",
       "├─────┼────────────────────┤\n",
       "│ 1   │ -3.04512           │\n",
       "│ 2   │ -5.90616           │\n",
       "│ 3   │ 0.467956           │\n",
       "│ 4   │ -4.52402           │\n",
       "│ 5   │ 1.77557            │\n",
       "│ 6   │ -1.1383            │\n",
       "│ 7   │ -3.26992           │\n",
       "│ 8   │ 5.39506            │\n",
       "│ 9   │ 4.66784            │\n",
       "│ 10  │ -1.50395           │\n",
       "⋮\n",
       "│ 189 │ 4.30077            │\n",
       "│ 190 │ 0.92946            │\n",
       "│ 191 │ 2.21726            │\n",
       "│ 192 │ -3.94101           │\n",
       "│ 193 │ 8.41046            │\n",
       "│ 194 │ 0.0498205          │\n",
       "│ 195 │ -0.0693615         │\n",
       "│ 196 │ -0.922753          │\n",
       "│ 197 │ -9.44384           │\n",
       "│ 198 │ 3.98789            │\n",
       "│ 199 │ 2.26646            │"
      ]
     },
     "execution_count": 225,
     "metadata": {},
     "output_type": "execute_result"
    }
   ],
   "source": [
    "sparseX2 = CSV.read(\"sparseX2.csv\")\n",
    "sparseY2 = CSV.read(\"sparseY2.csv\")"
   ]
  },
  {
   "cell_type": "markdown",
   "metadata": {},
   "source": [
    "Creation of the validation, training and testing sets."
   ]
  },
  {
   "cell_type": "code",
   "execution_count": 226,
   "metadata": {},
   "outputs": [
    {
     "data": {
      "text/plain": [
       "generate_val_train_test_sets (generic function with 1 method)"
      ]
     },
     "execution_count": 226,
     "metadata": {},
     "output_type": "execute_result"
    }
   ],
   "source": [
    "function generate_val_train_test_sets(data, output, val, test)\n",
    "    n = size(data, 1)\n",
    "    index = shuffle([i for i in 1:n])\n",
    "    \n",
    "    i_val = floor(Int,val*n)\n",
    "    i_test = floor(Int,(val+test)*n)\n",
    "    \n",
    "    ind_val = index[1:i_val]\n",
    "    ind_test = index[i_val+1:i_test]\n",
    "    ind_train = index[i_test+1:n]\n",
    "    \n",
    "    val_set = data[ind_val, :]\n",
    "    test_set = data[ind_test, :]\n",
    "    train_set = data[ind_train, :]\n",
    "\n",
    "    val_set_output = output[ind_val, :]\n",
    "    test_set_output = output[ind_test, :]\n",
    "    train_set_output = output[ind_train, :]\n",
    "    \n",
    "    return val_set, test_set, train_set, val_set_output, test_set_output, train_set_output \n",
    "    \n",
    "end"
   ]
  },
  {
   "cell_type": "code",
   "execution_count": 227,
   "metadata": {},
   "outputs": [
    {
     "data": {
      "text/plain": [
       "(49×100 DataFrame. Omitted printing of 97 columns\n",
       "│ Row │ 0.5299655761667461 │ -0.9716762048860438 │ -0.15393921542968417 │\n",
       "│     │ \u001b[90mFloat64\u001b[39m            │ \u001b[90mFloat64\u001b[39m             │ \u001b[90mFloat64\u001b[39m              │\n",
       "├─────┼────────────────────┼─────────────────────┼──────────────────────┤\n",
       "│ 1   │ -0.39862           │ -1.42984            │ 0.695282             │\n",
       "│ 2   │ -0.693654          │ 0.292859            │ -0.116407            │\n",
       "│ 3   │ 1.18512            │ 0.663567            │ -0.352346            │\n",
       "│ 4   │ 0.583708           │ 0.871909            │ 0.0872166            │\n",
       "│ 5   │ 0.475183           │ -0.76297            │ 1.79925              │\n",
       "│ 6   │ 1.24971            │ 0.864455            │ -0.504286            │\n",
       "│ 7   │ -0.0302669         │ -0.156948           │ -0.531705            │\n",
       "│ 8   │ 1.29992            │ 0.193736            │ 0.55788              │\n",
       "│ 9   │ 0.658323           │ -0.577509           │ 0.0667779            │\n",
       "│ 10  │ -0.413087          │ -0.0256681          │ -1.39425             │\n",
       "⋮\n",
       "│ 39  │ -0.704845          │ -0.0221901          │ 0.427909             │\n",
       "│ 40  │ -0.233103          │ 1.36138             │ 0.383998             │\n",
       "│ 41  │ -1.36073           │ -1.39313            │ -0.326052            │\n",
       "│ 42  │ 0.871816           │ -0.523135           │ -0.467986            │\n",
       "│ 43  │ -1.71999           │ 0.516971            │ -0.40406             │\n",
       "│ 44  │ -0.0556471         │ 0.278653            │ 1.75362              │\n",
       "│ 45  │ 0.642796           │ 0.544716            │ 0.837996             │\n",
       "│ 46  │ -1.62673           │ -1.08029            │ -0.36883             │\n",
       "│ 47  │ -1.58813           │ 0.168206            │ -0.00119442          │\n",
       "│ 48  │ 0.111043           │ 0.0441446           │ 1.13581              │\n",
       "│ 49  │ -0.361083          │ -1.83907            │ -0.656887            │, 50×100 DataFrame. Omitted printing of 97 columns\n",
       "│ Row │ 0.5299655761667461 │ -0.9716762048860438 │ -0.15393921542968417 │\n",
       "│     │ \u001b[90mFloat64\u001b[39m            │ \u001b[90mFloat64\u001b[39m             │ \u001b[90mFloat64\u001b[39m              │\n",
       "├─────┼────────────────────┼─────────────────────┼──────────────────────┤\n",
       "│ 1   │ -0.858585          │ -1.84873            │ 0.238262             │\n",
       "│ 2   │ -1.34853           │ -1.05622            │ -1.5457              │\n",
       "│ 3   │ 1.97162            │ -0.98377            │ 0.288688             │\n",
       "│ 4   │ 0.1343             │ 1.9136              │ 0.959969             │\n",
       "│ 5   │ -0.906487          │ -1.77497            │ -1.28574             │\n",
       "│ 6   │ -0.418066          │ -1.46672            │ -0.85543             │\n",
       "│ 7   │ -1.3962            │ -1.95986            │ 0.0370438            │\n",
       "│ 8   │ 0.131743           │ -3.29987            │ 0.572932             │\n",
       "│ 9   │ 0.313382           │ 0.26835             │ -0.0878906           │\n",
       "│ 10  │ -0.909479          │ 1.04517             │ 0.0166144            │\n",
       "⋮\n",
       "│ 40  │ -1.59321           │ 0.272369            │ 0.746144             │\n",
       "│ 41  │ -1.38511           │ -0.299618           │ 0.691634             │\n",
       "│ 42  │ 1.15406            │ 0.815614            │ 1.67595              │\n",
       "│ 43  │ -0.270859          │ -0.385363           │ 0.645479             │\n",
       "│ 44  │ -0.505072          │ 0.328921            │ 1.17308              │\n",
       "│ 45  │ 0.120766           │ 0.211121            │ -0.242349            │\n",
       "│ 46  │ -1.0933            │ -0.366906           │ -0.0799246           │\n",
       "│ 47  │ 0.209986           │ 1.18925             │ 1.4047               │\n",
       "│ 48  │ -1.52489           │ 0.53426             │ 0.403194             │\n",
       "│ 49  │ 1.36061            │ -0.794024           │ 0.312657             │\n",
       "│ 50  │ 0.363839           │ 0.13181             │ -1.06243             │, 100×100 DataFrame. Omitted printing of 97 columns\n",
       "│ Row │ 0.5299655761667461 │ -0.9716762048860438 │ -0.15393921542968417 │\n",
       "│     │ \u001b[90mFloat64\u001b[39m            │ \u001b[90mFloat64\u001b[39m             │ \u001b[90mFloat64\u001b[39m              │\n",
       "├─────┼────────────────────┼─────────────────────┼──────────────────────┤\n",
       "│ 1   │ 1.33694            │ 0.564993            │ 2.56782              │\n",
       "│ 2   │ -0.629805          │ 1.19401             │ 0.38933              │\n",
       "│ 3   │ 0.542924           │ -0.307905           │ -1.74367             │\n",
       "│ 4   │ 0.152699           │ -0.610172           │ 0.176698             │\n",
       "│ 5   │ 0.645105           │ -0.599379           │ -0.268714            │\n",
       "│ 6   │ 0.320025           │ 0.243877            │ 0.282855             │\n",
       "│ 7   │ 0.731197           │ -0.761022           │ -0.338566            │\n",
       "│ 8   │ -0.33527           │ 1.13515             │ -1.08961             │\n",
       "│ 9   │ -0.664646          │ -1.51335            │ -1.22891             │\n",
       "│ 10  │ 0.626685           │ 1.59105             │ -1.44089             │\n",
       "⋮\n",
       "│ 90  │ 0.458791           │ -0.538249           │ -0.0666754           │\n",
       "│ 91  │ -1.54673           │ 1.10761             │ -0.999101            │\n",
       "│ 92  │ -0.0184348         │ 0.27247             │ 0.142261             │\n",
       "│ 93  │ 1.79734            │ -1.61033            │ 0.999308             │\n",
       "│ 94  │ 0.579141           │ 0.260064            │ -1.28893             │\n",
       "│ 95  │ -0.49539           │ 0.0124829           │ -1.42603             │\n",
       "│ 96  │ -0.17164           │ 0.434903            │ -0.880626            │\n",
       "│ 97  │ -0.745464          │ -0.487019           │ 0.788025             │\n",
       "│ 98  │ 1.27697            │ -0.114097           │ -0.0322221           │\n",
       "│ 99  │ -1.22006           │ -0.528758           │ 0.0313193            │\n",
       "│ 100 │ 1.00193            │ -0.0114625          │ 0.131417             │, 49×1 DataFrame\n",
       "│ Row │ 2.3428592788251605 │\n",
       "│     │ \u001b[90mFloat64\u001b[39m            │\n",
       "├─────┼────────────────────┤\n",
       "│ 1   │ -1.24673           │\n",
       "│ 2   │ 5.39506            │\n",
       "│ 3   │ -3.17356           │\n",
       "│ 4   │ -5.90616           │\n",
       "│ 5   │ -3.23679           │\n",
       "│ 6   │ 0.402537           │\n",
       "│ 7   │ -2.26328           │\n",
       "│ 8   │ -4.35049           │\n",
       "│ 9   │ -3.44753           │\n",
       "│ 10  │ -0.713251          │\n",
       "⋮\n",
       "│ 39  │ 2.37793            │\n",
       "│ 40  │ -2.1796            │\n",
       "│ 41  │ 8.06128            │\n",
       "│ 42  │ -1.43284           │\n",
       "│ 43  │ 5.61235            │\n",
       "│ 44  │ 0.697533           │\n",
       "│ 45  │ 2.49505            │\n",
       "│ 46  │ 4.41308            │\n",
       "│ 47  │ -3.94101           │\n",
       "│ 48  │ -1.2173            │\n",
       "│ 49  │ -0.129695          │, 50×1 DataFrame\n",
       "│ Row │ 2.3428592788251605 │\n",
       "│     │ \u001b[90mFloat64\u001b[39m            │\n",
       "├─────┼────────────────────┤\n",
       "│ 1   │ 0.963681           │\n",
       "│ 2   │ 0.90397            │\n",
       "│ 3   │ -0.366368          │\n",
       "│ 4   │ -1.56723           │\n",
       "│ 5   │ 1.76422            │\n",
       "│ 6   │ -0.94648           │\n",
       "│ 7   │ 2.72719            │\n",
       "│ 8   │ 4.99917            │\n",
       "│ 9   │ -1.43142           │\n",
       "│ 10  │ 0.721249           │\n",
       "⋮\n",
       "│ 40  │ 5.15699            │\n",
       "│ 41  │ 0.20664            │\n",
       "│ 42  │ -2.43546           │\n",
       "│ 43  │ -0.978422          │\n",
       "│ 44  │ 0.826948           │\n",
       "│ 45  │ -1.50395           │\n",
       "│ 46  │ 4.57673            │\n",
       "│ 47  │ -1.22198           │\n",
       "│ 48  │ -2.68687           │\n",
       "│ 49  │ 2.6111             │\n",
       "│ 50  │ 0.777409           │, 100×1 DataFrame\n",
       "│ Row │ 2.3428592788251605 │\n",
       "│     │ \u001b[90mFloat64\u001b[39m            │\n",
       "├─────┼────────────────────┤\n",
       "│ 1   │ 1.30128            │\n",
       "│ 2   │ 0.593497           │\n",
       "│ 3   │ 2.1283             │\n",
       "│ 4   │ 1.67705            │\n",
       "│ 5   │ 0.92946            │\n",
       "│ 6   │ 3.21042            │\n",
       "│ 7   │ -4.60244           │\n",
       "│ 8   │ -1.13325           │\n",
       "│ 9   │ -0.203398          │\n",
       "│ 10  │ -2.05946           │\n",
       "⋮\n",
       "│ 90  │ -4.52402           │\n",
       "│ 91  │ 0.419656           │\n",
       "│ 92  │ -1.9529            │\n",
       "│ 93  │ -1.39696           │\n",
       "│ 94  │ -2.02741           │\n",
       "│ 95  │ -3.25088           │\n",
       "│ 96  │ 5.16405            │\n",
       "│ 97  │ -1.43531           │\n",
       "│ 98  │ -2.41964           │\n",
       "│ 99  │ 9.21171            │\n",
       "│ 100 │ -1.15801           │)"
      ]
     },
     "execution_count": 227,
     "metadata": {},
     "output_type": "execute_result"
    }
   ],
   "source": [
    "val_set, test_set, train_set, val_set_output, test_set_output, train_set_output = generate_val_train_test_sets(sparseX2, sparseY2, 0.25, 0.25)"
   ]
  },
  {
   "cell_type": "markdown",
   "metadata": {},
   "source": [
    "We choose ρ as the value that gives the best mean squared prediction error on the validation set."
   ]
  },
  {
   "cell_type": "markdown",
   "metadata": {},
   "source": [
    "Mean Square Error"
   ]
  },
  {
   "cell_type": "code",
   "execution_count": 228,
   "metadata": {},
   "outputs": [
    {
     "data": {
      "text/plain": [
       "mean_square_error (generic function with 1 method)"
      ]
     },
     "execution_count": 228,
     "metadata": {},
     "output_type": "execute_result"
    }
   ],
   "source": [
    "function mean_square_error(y_real, y_output)\n",
    "    n = size(y_real, 1)\n",
    "    return (sum((y_real[i, 1] - y_output[i, 1])^2 for i in 1:n))^(1/2)\n",
    "end"
   ]
  },
  {
   "cell_type": "code",
   "execution_count": 229,
   "metadata": {},
   "outputs": [
    {
     "data": {
      "text/plain": [
       "regression_output (generic function with 1 method)"
      ]
     },
     "execution_count": 229,
     "metadata": {},
     "output_type": "execute_result"
    }
   ],
   "source": [
    "function regression_output(data, beta)\n",
    "    nbr_rows = size(data, 1)\n",
    "    nbr_columns = size(data, 2)\n",
    "    \n",
    "    y = zeros((nbr_rows, 1))\n",
    "    \n",
    "    for i in 1:nbr_rows\n",
    "        y[i, 1] = sum(data[i, j]*beta[i] for j in 1:nbr_columns)\n",
    "    end\n",
    "    return y\n",
    "end\n"
   ]
  },
  {
   "cell_type": "code",
   "execution_count": 256,
   "metadata": {},
   "outputs": [
    {
     "data": {
      "text/plain": [
       "compute_error_l0 (generic function with 1 method)"
      ]
     },
     "execution_count": 256,
     "metadata": {},
     "output_type": "execute_result"
    }
   ],
   "source": [
    "function compute_error_l0(rho, set, output_set)\n",
    "    beta = regularized_regression_l0(train_set_output, train_set, rho)\n",
    "    y_output = regression_output(set, beta)\n",
    "    error = mean_square_error(output_set, y_output)\n",
    "    return error\n",
    "end"
   ]
  },
  {
   "cell_type": "code",
   "execution_count": 231,
   "metadata": {},
   "outputs": [
    {
     "data": {
      "text/plain": [
       "compute_error_l1 (generic function with 1 method)"
      ]
     },
     "execution_count": 231,
     "metadata": {},
     "output_type": "execute_result"
    }
   ],
   "source": [
    "function compute_error_l1(rho, set, output_set)\n",
    "    beta = regularized_regression_l1(train_set_output, train_set, rho)\n",
    "    y_output = regression_output(set, beta)\n",
    "    error = mean_square_error(output_set, y_output)\n",
    "    return error\n",
    "end"
   ]
  },
  {
   "cell_type": "code",
   "execution_count": 232,
   "metadata": {},
   "outputs": [
    {
     "data": {
      "text/plain": [
       "compute_error_l2 (generic function with 1 method)"
      ]
     },
     "execution_count": 232,
     "metadata": {},
     "output_type": "execute_result"
    }
   ],
   "source": [
    "function compute_error_l2(rho, set, output_set)\n",
    "    beta = regularized_regression_l2(train_set_output, train_set, rho)\n",
    "    y_output = regression_output(set, beta)\n",
    "    error = mean_square_error(output_set, y_output)\n",
    "    return error\n",
    "end"
   ]
  },
  {
   "cell_type": "code",
   "execution_count": 249,
   "metadata": {},
   "outputs": [
    {
     "data": {
      "text/plain": [
       "4-element Array{Float64,1}:\n",
       "   0.1\n",
       "   1.0\n",
       "  10.0\n",
       " 100.0"
      ]
     },
     "execution_count": 249,
     "metadata": {},
     "output_type": "execute_result"
    }
   ],
   "source": [
    "#rho_test = vcat([0.0001, 0.001, 0.01, 0.1, 1], [i*10 for i in 1:30])\n",
    "rho_test = [0.1, 1, 10, 100]"
   ]
  },
  {
   "cell_type": "code",
   "execution_count": 254,
   "metadata": {},
   "outputs": [
    {
     "ename": "BoundsError",
     "evalue": "BoundsError: attempt to access 100\n  at index [2]",
     "output_type": "error",
     "traceback": [
      "BoundsError: attempt to access 100\n  at index [2]",
      "",
      "Stacktrace:",
      " [1] indexed_iterate(::Int64, ::Int64, ::Nothing) at ./tuple.jl:72",
      " [2] regularized_regression_l0(::DataFrame, ::DataFrame, ::Int64) at ./In[243]:3",
      " [3] top-level scope at In[254]:1"
     ]
    }
   ],
   "source": [
    "beta = regularized_regression_l0(train_set_output, train_set, 1)"
   ]
  },
  {
   "cell_type": "code",
   "execution_count": 257,
   "metadata": {},
   "outputs": [
    {
     "ename": "BoundsError",
     "evalue": "BoundsError: attempt to access 100\n  at index [2]",
     "output_type": "error",
     "traceback": [
      "BoundsError: attempt to access 100\n  at index [2]",
      "",
      "Stacktrace:",
      " [1] indexed_iterate(::Int64, ::Int64, ::Nothing) at ./tuple.jl:72",
      " [2] regularized_regression_l0(::DataFrame, ::DataFrame, ::Float64) at ./In[255]:3",
      " [3] compute_error_l0(::Float64, ::DataFrame, ::DataFrame) at ./In[256]:2",
      " [4] top-level scope at ./In[257]:4"
     ]
    }
   ],
   "source": [
    "error_l0 = zeros(length(rho_test))\n",
    "\n",
    "for i in 1:length(rho_test)\n",
    "    error_l0[i] = compute_error_l0(rho_test[i], val_set, val_set_output)\n",
    "end"
   ]
  },
  {
   "cell_type": "code",
   "execution_count": 246,
   "metadata": {},
   "outputs": [
    {
     "data": {
      "image/png": "[encoded data removed]",
      "text/plain": [
       "Figure(PyObject <Figure size 640x480 with 1 Axes>)"
      ]
     },
     "metadata": {},
     "output_type": "display_data"
    },
    {
     "data": {
      "text/plain": [
       "1-element Array{PyCall.PyObject,1}:\n",
       " PyObject <matplotlib.lines.Line2D object at 0x142c3e2b0>"
      ]
     },
     "execution_count": 246,
     "metadata": {},
     "output_type": "execute_result"
    }
   ],
   "source": [
    "plot(rho_test, error_l0, color=\"red\", linewidth=2.0)      "
   ]
  },
  {
   "cell_type": "code",
   "execution_count": 236,
   "metadata": {},
   "outputs": [
    {
     "ename": "BoundsError",
     "evalue": "BoundsError: attempt to access 100\n  at index [2]",
     "output_type": "error",
     "traceback": [
      "BoundsError: attempt to access 100\n  at index [2]",
      "",
      "Stacktrace:",
      " [1] indexed_iterate(::Int64, ::Int64, ::Nothing) at ./tuple.jl:72",
      " [2] regularized_regression_l1(::DataFrame, ::DataFrame, ::Float64) at ./In[223]:2",
      " [3] compute_error_l1(::Float64, ::DataFrame, ::DataFrame) at ./In[231]:2",
      " [4] top-level scope at ./In[236]:4"
     ]
    }
   ],
   "source": [
    "error_l1 = zeros(length(rho_test))\n",
    "\n",
    "for i in 1:length(rho_test)\n",
    "    error_l1[i] = compute_error_l1(rho_test[i], val_set, val_set_output)\n",
    "end"
   ]
  },
  {
   "cell_type": "code",
   "execution_count": 237,
   "metadata": {},
   "outputs": [
    {
     "data": {
      "image/png": "[encoded data removed]",
      "text/plain": [
       "Figure(PyObject <Figure size 640x480 with 1 Axes>)"
      ]
     },
     "metadata": {},
     "output_type": "display_data"
    },
    {
     "data": {
      "text/plain": [
       "1-element Array{PyCall.PyObject,1}:\n",
       " PyObject <matplotlib.lines.Line2D object at 0x141f340f0>"
      ]
     },
     "execution_count": 237,
     "metadata": {},
     "output_type": "execute_result"
    }
   ],
   "source": [
    "plot(rho_test, error_l1, color=\"red\", linewidth=2.0)    "
   ]
  },
  {
   "cell_type": "code",
   "execution_count": 238,
   "metadata": {},
   "outputs": [
    {
     "ename": "BoundsError",
     "evalue": "BoundsError: attempt to access 100\n  at index [2]",
     "output_type": "error",
     "traceback": [
      "BoundsError: attempt to access 100\n  at index [2]",
      "",
      "Stacktrace:",
      " [1] indexed_iterate(::Int64, ::Int64, ::Nothing) at ./tuple.jl:72",
      " [2] regularized_regression_l2(::DataFrame, ::DataFrame, ::Float64) at ./In[224]:2",
      " [3] compute_error_l2(::Float64, ::DataFrame, ::DataFrame) at ./In[232]:2",
      " [4] top-level scope at ./In[238]:4"
     ]
    }
   ],
   "source": [
    "error_l2 = zeros(length(rho_test))\n",
    "\n",
    "for i in 1:length(rho_test)\n",
    "    error_l2[i] = compute_error_l2(rho_test[i], val_set, val_set_output)\n",
    "end"
   ]
  },
  {
   "cell_type": "code",
   "execution_count": 239,
   "metadata": {},
   "outputs": [
    {
     "data": {
      "image/png": "[encoded data removed]",
      "text/plain": [
       "Figure(PyObject <Figure size 640x480 with 1 Axes>)"
      ]
     },
     "metadata": {},
     "output_type": "display_data"
    },
    {
     "data": {
      "text/plain": [
       "1-element Array{PyCall.PyObject,1}:\n",
       " PyObject <matplotlib.lines.Line2D object at 0x142aad470>"
      ]
     },
     "execution_count": 239,
     "metadata": {},
     "output_type": "execute_result"
    }
   ],
   "source": [
    "plot(rho_test, error_l2, color=\"red\", linewidth=2.0)    "
   ]
  },
  {
   "cell_type": "markdown",
   "metadata": {},
   "source": [
    "Compute ∥y − Xβ∥2 on the testing set using the β’s from l0-regularized, l1-regularized linear regression, l2- regularized linear regression, and standard linear regression (ρ = 0)"
   ]
  },
  {
   "cell_type": "code",
   "execution_count": 240,
   "metadata": {},
   "outputs": [
    {
     "ename": "UndefVarError",
     "evalue": "UndefVarError: rho_l0 not defined",
     "output_type": "error",
     "traceback": [
      "UndefVarError: rho_l0 not defined",
      "",
      "Stacktrace:",
      " [1] top-level scope at In[240]:1"
     ]
    }
   ],
   "source": [
    "l0_error = compute_error_l0(rho_l0, test_set, test_set_output)"
   ]
  },
  {
   "cell_type": "code",
   "execution_count": 241,
   "metadata": {},
   "outputs": [
    {
     "ename": "UndefVarError",
     "evalue": "UndefVarError: rho_l1 not defined",
     "output_type": "error",
     "traceback": [
      "UndefVarError: rho_l1 not defined",
      "",
      "Stacktrace:",
      " [1] top-level scope at In[241]:1"
     ]
    }
   ],
   "source": [
    "l1_error = compute_error_l1(rho_l1, test_set, test_set_output)"
   ]
  },
  {
   "cell_type": "code",
   "execution_count": 242,
   "metadata": {},
   "outputs": [
    {
     "ename": "UndefVarError",
     "evalue": "UndefVarError: rho_l2 not defined",
     "output_type": "error",
     "traceback": [
      "UndefVarError: rho_l2 not defined",
      "",
      "Stacktrace:",
      " [1] top-level scope at In[242]:1"
     ]
    }
   ],
   "source": [
    "l2_error = compute_error_l2(rho_l2, test_set, test_set_output)"
   ]
  }
 ],
 "metadata": {
  "kernelspec": {
   "display_name": "Julia 1.2.0",
   "language": "julia",
   "name": "julia-1.2"
  },
  "language_info": {
   "file_extension": ".jl",
   "mimetype": "application/julia",
   "name": "julia",
   "version": "1.2.0"
  }
 },
 "nbformat": 4,
 "nbformat_minor": 2
}
