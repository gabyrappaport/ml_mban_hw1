{
 "cells": [
  {
   "cell_type": "markdown",
   "metadata": {},
   "source": [
    "# Exercice 3"
   ]
  },
  {
   "cell_type": "code",
   "execution_count": 2,
   "metadata": {},
   "outputs": [],
   "source": [
    "using JuMP, Gurobi, DataFrames, CSV, Random, LinearAlgebra, PyPlot, Dates, Statistics"
   ]
  },
  {
   "cell_type": "markdown",
   "metadata": {},
   "source": [
    "# Question a"
   ]
  },
  {
   "cell_type": "code",
   "execution_count": 3,
   "metadata": {},
   "outputs": [
    {
     "data": {
      "text/plain": [
       "RLR (generic function with 1 method)"
      ]
     },
     "execution_count": 3,
     "metadata": {},
     "output_type": "execute_result"
    }
   ],
   "source": [
    "function RLR(y, X)\n",
    "   \n",
    "    n,m = size(X)\n",
    "    model = Model(solver = GurobiSolver(TimeLimit=45))\n",
    "    \n",
    "    @variable(model, β[1:m])\n",
    "    \n",
    "    @objective(model, Min, sum((y - X*β).^2))\n",
    "    \n",
    "    sol = solve(model)\n",
    "    \n",
    "    return (getobjectivevalue(model), getvalue(β))\n",
    "    \n",
    "end"
   ]
  },
  {
   "cell_type": "markdown",
   "metadata": {},
   "source": [
    "## Question b"
   ]
  },
  {
   "cell_type": "code",
   "execution_count": 4,
   "metadata": {},
   "outputs": [
    {
     "data": {
      "text/html": [
       "<table class=\"data-frame\"><thead><tr><th></th><th>Column1</th></tr><tr><th></th><th>Float64</th></tr></thead><tbody><p>200 rows × 1 columns</p><tr><th>1</th><td>2.34286</td></tr><tr><th>2</th><td>-3.04512</td></tr><tr><th>3</th><td>-5.90616</td></tr><tr><th>4</th><td>0.467956</td></tr><tr><th>5</th><td>-4.52402</td></tr><tr><th>6</th><td>1.77557</td></tr><tr><th>7</th><td>-1.1383</td></tr><tr><th>8</th><td>-3.26992</td></tr><tr><th>9</th><td>5.39506</td></tr><tr><th>10</th><td>4.66784</td></tr><tr><th>11</th><td>-1.50395</td></tr><tr><th>12</th><td>2.23237</td></tr><tr><th>13</th><td>0.469463</td></tr><tr><th>14</th><td>0.682461</td></tr><tr><th>15</th><td>5.31253</td></tr><tr><th>16</th><td>0.525097</td></tr><tr><th>17</th><td>-2.70004</td></tr><tr><th>18</th><td>1.30128</td></tr><tr><th>19</th><td>1.72264</td></tr><tr><th>20</th><td>-1.43531</td></tr><tr><th>21</th><td>9.21171</td></tr><tr><th>22</th><td>-1.06833</td></tr><tr><th>23</th><td>-1.7492</td></tr><tr><th>24</th><td>6.5739</td></tr><tr><th>25</th><td>-0.736</td></tr><tr><th>26</th><td>-1.04892</td></tr><tr><th>27</th><td>-3.06926</td></tr><tr><th>28</th><td>3.9814</td></tr><tr><th>29</th><td>1.38392</td></tr><tr><th>30</th><td>1.05565</td></tr><tr><th>&vellip;</th><td>&vellip;</td></tr></tbody></table>"
      ],
      "text/latex": [
       "\\begin{tabular}{r|c}\n",
       "\t& Column1\\\\\n",
       "\t\\hline\n",
       "\t& Float64\\\\\n",
       "\t\\hline\n",
       "\t1 & 2.34286 \\\\\n",
       "\t2 & -3.04512 \\\\\n",
       "\t3 & -5.90616 \\\\\n",
       "\t4 & 0.467956 \\\\\n",
       "\t5 & -4.52402 \\\\\n",
       "\t6 & 1.77557 \\\\\n",
       "\t7 & -1.1383 \\\\\n",
       "\t8 & -3.26992 \\\\\n",
       "\t9 & 5.39506 \\\\\n",
       "\t10 & 4.66784 \\\\\n",
       "\t11 & -1.50395 \\\\\n",
       "\t12 & 2.23237 \\\\\n",
       "\t13 & 0.469463 \\\\\n",
       "\t14 & 0.682461 \\\\\n",
       "\t15 & 5.31253 \\\\\n",
       "\t16 & 0.525097 \\\\\n",
       "\t17 & -2.70004 \\\\\n",
       "\t18 & 1.30128 \\\\\n",
       "\t19 & 1.72264 \\\\\n",
       "\t20 & -1.43531 \\\\\n",
       "\t21 & 9.21171 \\\\\n",
       "\t22 & -1.06833 \\\\\n",
       "\t23 & -1.7492 \\\\\n",
       "\t24 & 6.5739 \\\\\n",
       "\t25 & -0.736 \\\\\n",
       "\t26 & -1.04892 \\\\\n",
       "\t27 & -3.06926 \\\\\n",
       "\t28 & 3.9814 \\\\\n",
       "\t29 & 1.38392 \\\\\n",
       "\t30 & 1.05565 \\\\\n",
       "\t$\\dots$ & $\\dots$ \\\\\n",
       "\\end{tabular}\n"
      ],
      "text/plain": [
       "200×1 DataFrame\n",
       "│ Row │ Column1    │\n",
       "│     │ \u001b[90mFloat64\u001b[39m    │\n",
       "├─────┼────────────┤\n",
       "│ 1   │ 2.34286    │\n",
       "│ 2   │ -3.04512   │\n",
       "│ 3   │ -5.90616   │\n",
       "│ 4   │ 0.467956   │\n",
       "│ 5   │ -4.52402   │\n",
       "│ 6   │ 1.77557    │\n",
       "│ 7   │ -1.1383    │\n",
       "│ 8   │ -3.26992   │\n",
       "│ 9   │ 5.39506    │\n",
       "│ 10  │ 4.66784    │\n",
       "⋮\n",
       "│ 190 │ 4.30077    │\n",
       "│ 191 │ 0.92946    │\n",
       "│ 192 │ 2.21726    │\n",
       "│ 193 │ -3.94101   │\n",
       "│ 194 │ 8.41046    │\n",
       "│ 195 │ 0.0498205  │\n",
       "│ 196 │ -0.0693615 │\n",
       "│ 197 │ -0.922753  │\n",
       "│ 198 │ -9.44384   │\n",
       "│ 199 │ 3.98789    │\n",
       "│ 200 │ 2.26646    │"
      ]
     },
     "execution_count": 4,
     "metadata": {},
     "output_type": "execute_result"
    }
   ],
   "source": [
    "sparseX2 = CSV.read(\"sparseX2.csv\", header = false)\n",
    "sparseY2 = CSV.read(\"sparseY2.csv\", header = false)"
   ]
  },
  {
   "cell_type": "markdown",
   "metadata": {},
   "source": [
    "Creation of the validation, training and testing sets."
   ]
  },
  {
   "cell_type": "code",
   "execution_count": 5,
   "metadata": {},
   "outputs": [
    {
     "data": {
      "text/plain": [
       "split_data (generic function with 1 method)"
      ]
     },
     "execution_count": 5,
     "metadata": {},
     "output_type": "execute_result"
    }
   ],
   "source": [
    "function split_data(X, y, val, test)\n",
    "    n = size(X, 1)\n",
    "    index = shuffle([i for i in 1:n])\n",
    "    \n",
    "    size_validation = floor(Int,val*n)    \n",
    "    size_test = floor(Int,(val+test)*n)\n",
    "    \n",
    "    ind_validation = index[1:size_validation]\n",
    "    ind_test = index[size_validation+1:size_test]\n",
    "    ind_train = index[size_test+1:n]\n",
    "    \n",
    "    X_validation = X[ind_validation, :]\n",
    "    X_test = X[ind_test, :]\n",
    "    X_train = X[ind_train, :]\n",
    "\n",
    "    y_validation = y[ind_validation, :]\n",
    "    y_test = y[ind_test, :]\n",
    "    y_train = y[ind_train, :]\n",
    "    \n",
    "    return (\n",
    "        convert(Matrix,X_validation), \n",
    "        convert(Matrix,X_test), \n",
    "        convert(Matrix,X_train), \n",
    "        convert(Matrix, y_validation), \n",
    "        convert(Matrix,y_test),\n",
    "        convert(Matrix,y_train)\n",
    "        )\n",
    "    \n",
    "end"
   ]
  },
  {
   "cell_type": "code",
   "execution_count": 6,
   "metadata": {},
   "outputs": [
    {
     "data": {
      "text/plain": [
       "([0.865359034508392 -1.3830239105437792 … -0.6321460869851878 0.2668197344511686; -0.5223367574215084 -1.0915556882219897 … 0.49415068848214566 -0.29532793316973055; … ; -0.0667679865065892 0.8739856083349014 … 2.007634258006536 1.6592842706869955; -0.6646462443910314 -1.513350928595663 … 2.164064096775709 -0.0924081803019496], [-1.9667458603144716 0.8667513992731141 … -1.7950553186304543 0.12001548936997525; -0.06337459242956062 -0.918403552104298 … -1.404343687682439 -1.2039277776012383; … ; -1.348533456491827 -1.0562153109753674 … 1.1881142311749096 -0.3399704288111639; 0.7973041601753904 -0.5232908450257276 … 0.12064798321850932 2.280177984189599], [-0.9064866353733989 -1.774970345560557 … 1.089429308879839 -0.4470390677875259; 1.2873446803519781 -1.2318226776506749 … 1.382633107897221 0.1596619727622882; … ; 1.2497099131508578 0.8644553636016384 … -2.850487575621966 -0.5971027475776414; -0.43870997575879667 0.44237536440754566 … 0.2869531210793497 -0.3959998081620423], [-0.06764365887621415; 1.7755713924935264; … ; -0.7359995750211611; -0.20339806072662203], [1.6083710637846345; -2.700035503210121; … ; 0.9039697398728173; 1.808572885182455], [1.7642167244781397; 0.43426971263084857; … ; 0.4025373607577415; -5.0957007239914915])"
      ]
     },
     "execution_count": 6,
     "metadata": {},
     "output_type": "execute_result"
    }
   ],
   "source": [
    "(\n",
    "    X_validation, \n",
    "    X_test, \n",
    "    X_train, \n",
    "    y_validation, \n",
    "    y_test,\n",
    "    y_train\n",
    ") = split_data(sparseX2, sparseY2, 0.25, 0.25)"
   ]
  },
  {
   "cell_type": "markdown",
   "metadata": {},
   "source": [
    "We choose ρ as the value that gives the best mean squared prediction error on the validation set."
   ]
  },
  {
   "cell_type": "code",
   "execution_count": 7,
   "metadata": {},
   "outputs": [
    {
     "data": {
      "text/plain": [
       "mean_square_error (generic function with 1 method)"
      ]
     },
     "execution_count": 7,
     "metadata": {},
     "output_type": "execute_result"
    }
   ],
   "source": [
    "function mean_square_error(y_actual, y_predicted)\n",
    "    return sum((y_actual - y_predicted).^2)\n",
    "end"
   ]
  },
  {
   "cell_type": "code",
   "execution_count": 8,
   "metadata": {},
   "outputs": [
    {
     "data": {
      "text/plain": [
       "compute_error (generic function with 1 method)"
      ]
     },
     "execution_count": 8,
     "metadata": {},
     "output_type": "execute_result"
    }
   ],
   "source": [
    "function compute_error(X, y)\n",
    "    objective, β = RLR(y_train, X_train)\n",
    "    error = mean_square_error(y, X * β)\n",
    "    return error\n",
    "end"
   ]
  },
  {
   "cell_type": "code",
   "execution_count": 9,
   "metadata": {},
   "outputs": [
    {
     "name": "stdout",
     "output_type": "stream",
     "text": [
      "Academic license - for non-commercial use only\n",
      "Optimize a model with 0 rows, 100 columns and 0 nonzeros\n",
      "Model has 5050 quadratic objective terms\n",
      "Coefficient statistics:\n",
      "  Matrix range     [0e+00, 0e+00]\n",
      "  Objective range  [1e+00, 3e+02]\n",
      "  QObjective range [9e-03, 3e+02]\n",
      "  Bounds range     [0e+00, 0e+00]\n",
      "  RHS range        [0e+00, 0e+00]\n",
      "Presolve time: 0.00s\n",
      "Presolved: 0 rows, 100 columns, 0 nonzeros\n",
      "Presolved model has 5050 quadratic objective terms\n",
      "Ordering time: 0.00s\n",
      "\n",
      "Barrier statistics:\n",
      " Free vars  : 199\n",
      " AA' NZ     : 4.851e+03\n",
      " Factor NZ  : 4.950e+03\n",
      " Factor Ops : 3.284e+05 (less than 1 second per iteration)\n",
      " Threads    : 1\n",
      "\n",
      "                  Objective                Residual\n",
      "Iter       Primal          Dual         Primal    Dual     Compl     Time\n",
      "   0   0.00000000e+00  0.00000000e+00  0.00e+00 3.33e+02  0.00e+00     0s\n",
      "   1  -2.59846287e+02 -1.57837289e+01  3.77e-08 2.95e+02  0.00e+00     0s\n",
      "   2  -4.95692372e+02 -6.54093558e+01  3.24e-08 2.55e+02  0.00e+00     0s\n",
      "   3  -7.44552788e+02 -1.76092797e+02  6.13e-08 2.05e+02  0.00e+00     0s\n",
      "   4  -1.09773190e+03 -5.95998719e+02  8.42e-08 9.85e+01  0.00e+00     0s\n",
      "   5  -1.20332627e+03 -1.20332548e+03  8.70e-08 9.85e-05  0.00e+00     0s\n",
      "   6  -1.20332623e+03 -1.20332623e+03  1.30e-13 6.66e-10  0.00e+00     0s\n",
      "\n",
      "Barrier solved model in 6 iterations and 0.01 seconds\n",
      "Optimal objective -1.20332623e+03\n",
      "\n"
     ]
    },
    {
     "data": {
      "text/plain": [
       "6391.2302259375865"
      ]
     },
     "execution_count": 9,
     "metadata": {},
     "output_type": "execute_result"
    }
   ],
   "source": [
    "SLR_error = compute_error(X_test, y_test)"
   ]
  },
  {
   "cell_type": "code",
   "execution_count": 13,
   "metadata": {},
   "outputs": [
    {
     "data": {
      "text/plain": [
       "baseline_error (generic function with 1 method)"
      ]
     },
     "execution_count": 13,
     "metadata": {},
     "output_type": "execute_result"
    }
   ],
   "source": [
    "function baseline_error(y, data)\n",
    "    avg = mean(data)\n",
    "    error = sum((y .- avg).^2)\n",
    "    return(error)\n",
    "end"
   ]
  },
  {
   "cell_type": "code",
   "execution_count": 14,
   "metadata": {},
   "outputs": [
    {
     "data": {
      "text/plain": [
       "611.0760445152437"
      ]
     },
     "execution_count": 14,
     "metadata": {},
     "output_type": "execute_result"
    }
   ],
   "source": [
    "baseline_e = baseline_error(y_test, convert(Matrix,sparseY2))"
   ]
  },
  {
   "cell_type": "code",
   "execution_count": 15,
   "metadata": {},
   "outputs": [
    {
     "name": "stdout",
     "output_type": "stream",
     "text": [
      " SLR error: 6391.2302259375865\n",
      " baseline error: 611.0760445152437\n"
     ]
    }
   ],
   "source": [
    "println(\" SLR error: \", SLR_error)\n",
    "println(\" baseline error: \", baseline_e)"
   ]
  }
 ],
 "metadata": {
  "kernelspec": {
   "display_name": "Julia 1.2.0",
   "language": "julia",
   "name": "julia-1.2"
  },
  "language_info": {
   "file_extension": ".jl",
   "mimetype": "application/julia",
   "name": "julia",
   "version": "1.2.0"
  }
 },
 "nbformat": 4,
 "nbformat_minor": 2
}
